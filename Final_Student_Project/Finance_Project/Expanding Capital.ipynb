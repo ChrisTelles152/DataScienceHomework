{
 "cells": [
  {
   "cell_type": "code",
   "execution_count": 58,
   "metadata": {
    "scrolled": false
   },
   "outputs": [],
   "source": [
    "####total = [len(x) for x in thing]\n",
    "#Purpose:\n",
    "#    Invest in the best series C company and earn high returns.\n",
    "#Dissecting purpose:\n",
    "#    Invest:\n",
    "#        There are previous investors\n",
    "#        I am current investor\n",
    "#        There will be future investors\n",
    "#        Amount invested is in the same range\n",
    "#    Best:\n",
    "#        Best growth between rounds and long term\n",
    "#        Predicting how much valuation will grow between rounds\n",
    "#        Predicting if the COs can keep up to their valuation\n",
    "#        Does industry make a difference?\n",
    "#    Series C:\n",
    "#        Post A\n",
    "#        Pre E\n",
    "#        Compute best intra-round diff to lead to highest valuation\n",
    "\n",
    "\n",
    "#The financial model has the following fields:\n",
    "#\t\n",
    "#\t- instant: record index\n",
    "#\t- dteday : date\n",
    "#\t- season : season (1:springer, 2:summer, 3:fall, 4:winter)\n",
    "#\t- yr : year (0: 2011, 1:2012)\n",
    "#\t- mnth : month ( 1 to 12)\n",
    "#\t- hr : hour (0 to 23)\n",
    "#\t- holiday : weather day is holiday or not (extracted from http://dchr.dc.gov/page/holiday-schedule)\n",
    "#\t- weekday : day of the week\n",
    "#\t- workingday : if day is neither weekend nor holiday is 1, otherwise is 0.\n",
    "#\t+ weathersit : \n",
    "#\t\t- 1: Clear, Few clouds, Partly cloudy, Partly cloudy\n",
    "#\t\t- 2: Mist + Cloudy, Mist + Broken clouds, Mist + Few clouds, Mist\n",
    "#\t\t- 3: Light Snow, Light Rain + Thunderstorm + Scattered clouds, Light Rain + Scattered clouds\n",
    "#\t\t- 4: Heavy Rain + Ice Pallets + Thunderstorm + Mist, Snow + Fog\n",
    "#\t- temp : Normalized temperature in Celsius. The values are divided to 41 (max)\n",
    "#\t- atemp: Normalized feeling temperature in Celsius. The values are divided to 50 (max)\n",
    "#\t- hum: Normalized humidity. The values are divided to 100 (max)\n",
    "#\t- windspeed: Normalized wind speed. The values are divided to 67 (max)\n",
    "#\t- casual: count of casual users\n",
    "#\t- registered: count of registered users\n",
    "#\t- cnt: count of total rental bikes including both casual and registered\n",
    "#\t\n",
    "\n",
    "\n",
    "# Data structure:\n",
    "# each company was invested over many rounds\n",
    "# each round is a different value\n",
    "# many funds invested in one round\n",
    "# one fund may invest over many rounds\n",
    "\n",
    "# variables:\n",
    "# Companies\n",
    "# Funds\n",
    "# round name\n",
    "# amount raised in round\n",
    "# amount invested in round"
   ]
  },
  {
   "cell_type": "code",
   "execution_count": 56,
   "metadata": {},
   "outputs": [
    {
     "name": "stdout",
     "output_type": "stream",
     "text": [
      "          company1    company2    company3\n",
      "count     6.000000    6.000000    6.000000\n",
      "mean    436.466667   52.700000  175.083333\n",
      "std     789.584161   47.058049  315.513299\n",
      "min       0.800000    0.200000    0.500000\n",
      "25%       6.000000   14.500000    3.500000\n",
      "50%      57.500000   50.000000   24.000000\n",
      "75%     400.000000   82.500000  160.000000\n",
      "max    2000.000000  120.000000  800.000000\n",
      "          company1  company2  company3\n",
      "company1  1.000000  0.826818  0.999997\n",
      "company2  0.826818  1.000000  0.826685\n",
      "company3  0.999997  0.826685  1.000000\n"
     ]
    },
    {
     "data": {
      "image/png": "[encoded data removed]",
      "text/plain": [
       "<matplotlib.figure.Figure at 0x111c4ecc0>"
      ]
     },
     "metadata": {},
     "output_type": "display_data"
    }
   ],
   "source": [
    "import sys\n",
    "from sklearn import datasets\n",
    "from sklearn import metrics\n",
    "from sklearn import linear_model\n",
    "import pandas as pd #imports Pandas\n",
    "import numpy as np #imports NumPy\n",
    "import matplotlib.pyplot as plt #enables plotting\n",
    "%matplotlib inline\n",
    "from scipy import stats\n",
    "import seaborn as sns\n",
    "import statsmodels.api as sm\n",
    "\n",
    "i = pd.DataFrame({'company1' : [0.8,3,15,100,500,2000],\n",
    "                 'company2' : [0.2,6,40,60,90,120],\n",
    "                 'company3' : [0.5,2,8,40,200,800]})\n",
    "\n",
    "i.plot(kind='line')\n",
    "print(i.describe())\n",
    "print(i.corr())\n",
    "\n",
    "#Creates dummy variables and shows dummy setitngs\n",
    "my_categorical_var = ['1Seed','A','B','C','D','E']\n",
    "my_categorical_var_dummies = pd.get_dummies(my_categorical_var, prefix='Series').iloc[:]\n",
    "#my_categorical_var_dummies"
   ]
  },
  {
   "cell_type": "code",
   "execution_count": null,
   "metadata": {
    "collapsed": true
   },
   "outputs": [],
   "source": [
    "# Objective: \n",
    "# \tInvest in the best company, based on previous investment data, to predict their valuation growth\n",
    "#\n",
    "# Assumptions:\n",
    "# \tCompanies have already been invested in previously\n",
    "#\tThey are currently looking for Series B-D investment\n",
    "#\tThey have not failed (bankruptcy, dissolution)\n",
    "#\tThey are looking for capital in order to grow quickly\n",
    "#\n",
    "# Variables:\n",
    "#\tCompany name (string)\n",
    "#\tRound type (angel, seed, series A, series B) (string, categorized into ints)\n",
    "#\tRound date (date)\n",
    "#\tRound amount invested (float)\n",
    "#\tPre-money valuation (float)\n",
    "# \tDown round (bool)\n",
    "#\tCEO (string)\n",
    "#\tChanged CEO (bool)\n",
    "#\tInvestor list (String / List / Series / Dict / DF)\n",
    "#\tLead investor (String / List / Series)\n",
    "#\tBoard members (String / List / Series)\n",
    "#\tInternal investor in round (bool)\n",
    "#\tExternal investor in round (bool)\n",
    "#\t\n",
    "#\n",
    "# Example:\n",
    "#\t[ Tesla,\n",
    "# \t  Seed Round (0), \n",
    "#\t  Aug 2006, \n",
    "#\t  3.4 million, \n",
    "#\t  10 million, \n",
    "#\t  False, \n",
    "#\t  Elon Musk, \n",
    "#\t  False, \n",
    "#\t  [DFJ, Musk, ...], \n",
    "#\t  [DFJ, Musk],\n",
    "#\t  True,\n",
    "#\t  True ]\n",
    "#\n",
    "#"
   ]
  }
 ],
 "metadata": {
  "kernelspec": {
   "display_name": "Python 3",
   "language": "python",
   "name": "python3"
  },
  "language_info": {
   "codemirror_mode": {
    "name": "ipython",
    "version": 3
   },
   "file_extension": ".py",
   "mimetype": "text/x-python",
   "name": "python",
   "nbconvert_exporter": "python",
   "pygments_lexer": "ipython3",
   "version": "3.6.0"
  }
 },
 "nbformat": 4,
 "nbformat_minor": 2
}
