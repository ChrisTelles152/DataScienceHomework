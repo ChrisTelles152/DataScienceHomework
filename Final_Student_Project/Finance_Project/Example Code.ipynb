{
 "cells": [
  {
   "cell_type": "code",
   "execution_count": 21,
   "metadata": {
    "collapsed": false,
    "scrolled": false
   },
   "outputs": [],
   "source": [
    "import pandas as pd\n",
    "import numpy as np\n",
    "\n",
    "#Methods available include: \n",
    "#    .min() - Compute minimum value\n",
    "#    .max() - Compute maximum value\n",
    "#    .mean() - Compute mean value\n",
    "#    .median() - Compute median value\n",
    "#    .mode() - Compute mode value(s)\n",
    "#    .count() - Count the number of observations\n",
    "#    .std() - Compute Standard Deviation\n",
    "#    .var() - Compute variance"
   ]
  },
  {
   "cell_type": "code",
   "execution_count": 10,
   "metadata": {
    "collapsed": true
   },
   "outputs": [],
   "source": [
    "#Categorical predictors\n",
    "# read data into a DataFrame\n",
    "#data = pd.read_csv('http://www-bcf.usc.edu/~gareth/ISL/Advertising.csv', index_col=0)\n",
    "#data.head()\n",
    "\n",
    "# print the shape of the DataFrame\n",
    "#data.shape\n",
    "\n",
    "# visualize the relationship between the features and the response using scatterplots\n",
    "#fig, axs = plt.subplots(1, 3, sharey=True)\n",
    "#data.plot(kind='scatter', x='TV', y='Sales', ax=axs[0], figsize=(16, 8))\n",
    "#data.plot(kind='scatter', x='Radio', y='Sales', ax=axs[1])\n",
    "#data.plot(kind='scatter', x='Newspaper', y='Sales', ax=axs[2])\n",
    "\n",
    "# this is the standard import if you're using \"formula notation\" (similar to R)\n",
    "#import statsmodels.formula.api as smf\n",
    "\n",
    "# create a fitted model in one line\n",
    "#formula notification is the equivalent to writing out our models such that 'outcome = predictor'\n",
    "#with the follwing syntax formula = 'outcome ~ predictor1 + predictor2 ... predictorN'\n",
    "#lm = smf.ols(formula='Sales ~ TV', data=data).fit()\n",
    "\n",
    "#print the full summary\n",
    "#lm.summary()\n",
    "\n",
    "\n",
    "# print the coefficients\n",
    "#lm.params\n",
    "\n",
    "# manually calculate the prediction\n",
    "#7.032594 + 0.047537*50000\n",
    "\n",
    "# you have to create a DataFrame since the Statsmodels formula interface expects it\n",
    "#X_new = pd.DataFrame({'TV': [50000]})\n",
    "#X_new.head()\n",
    "\n",
    "# use the model to make predictions on a new value\n",
    "#lm.predict(X_new)\n",
    "\n",
    "# print the confidence intervals for the model coefficients\n",
    "#lm.conf_int()\n",
    "\n",
    "# print the p-values for the model coefficients\n",
    "#lm.pvalues"
   ]
  },
  {
   "cell_type": "code",
   "execution_count": 11,
   "metadata": {
    "collapsed": true
   },
   "outputs": [],
   "source": [
    "#np.random.seed(12345) # set a seed for reproducibility\n",
    "#nums = np.random.rand(len(data)) # create a Series of booleans\n",
    "#mask_large = nums > 0.5 # roughly half of booleans are True\n",
    "#data['Size'] = 'small' #set Size to small\n",
    "#data.loc[mask_large, 'Size'] = 'large' #change roughly half to be large\n",
    "#data['IsLarge'] = data.Size.map({'small':0, 'large':1}) # create a new Series called IsLarge\n",
    "#np.random.seed(123456) # set a seed for reproducibility\n",
    "\n",
    "# assign roughly one third of observations to each group\n",
    "#nums = np.random.rand(len(data))\n",
    "#mask_a = (nums > 0.33) & (nums < 0.66)\n",
    "#mask_b = nums > 0.66\n",
    "#data['Series'] = 'Seed' #sets original categorical value to Area_rural\n",
    "#data.loc[mask_a, 'Series'] = 'A' #sets dummy to Series_a\n",
    "#data.loc[mask_b, 'Series'] = 'B' #sets dummy to Series_b\n",
    "\n",
    "# create three dummy variables using get_dummies, then exclude the first dummy column\n",
    "#area_dummies = pd.get_dummies(data.Area, prefix='Area').iloc[:, 1:]\n",
    "\n",
    "# concatenate the dummy variable columns onto the original DataFrame (axis=0 means rows, axis=1 means columns)\n",
    "#data = pd.concat([data, area_dummies], axis=1)\n",
    "#data.head() #shows data\n",
    "\n",
    "# read data into a DataFrame\n",
    "#data = pd.read_csv('http://www-bcf.usc.edu/~gareth/ISL/Advertising.csv', index_col=0)\n",
    "#data.head()\n",
    "# set a seed for reproducibility\n",
    "#np.random.seed(12345)\n",
    "\n",
    "# create a Series of booleans in which roughly half are True\n",
    "#nums = np.random.rand(len(data))\n",
    "#mask_large = nums > 0.5\n",
    "\n",
    "# initially set Size to small, then change roughly half to be large\n",
    "#data['Size'] = 'small'\n",
    "#data.loc[mask_large, 'Size'] = 'large'\n",
    "#data.head()\n",
    "# create a new Series called IsLarge\n",
    "#data['IsLarge'] = data.Size.map({'small':0, 'large':1})\n",
    "#data.head()\n",
    "# set a seed for reproducibility\n",
    "#np.random.seed(123456)\n",
    "\n",
    "# assign roughly one third of observations to each group\n",
    "#nums = np.random.rand(len(data))\n",
    "#mask_suburban = (nums > 0.33) & (nums < 0.66)\n",
    "#mask_urban = nums > 0.66\n",
    "#data['Area'] = 'rural'\n",
    "#data.loc[mask_suburban, 'Area'] = 'suburban'\n",
    "#data.loc[mask_urban, 'Area'] = 'urban'\n",
    "#data.head()\n",
    "# create three dummy variables using get_dummies, then exclude the first dummy column\n",
    "#area_dummies = pd.get_dummies(data.Area, prefix='Area').iloc[:, 1:]\n",
    "\n",
    "# concatenate the dummy variable columns onto the original DataFrame (axis=0 means rows, axis=1 means columns)\n",
    "#data = pd.concat([data, area_dummies], axis=1)\n",
    "#data.head()\n"
   ]
  },
  {
   "cell_type": "code",
   "execution_count": 20,
   "metadata": {
    "collapsed": false
   },
   "outputs": [
    {
     "data": {
      "text/html": [
       "<div>\n",
       "<table border=\"1\" class=\"dataframe\">\n",
       "  <thead>\n",
       "    <tr style=\"text-align: right;\">\n",
       "      <th></th>\n",
       "      <th>A</th>\n",
       "      <th>B</th>\n",
       "    </tr>\n",
       "  </thead>\n",
       "  <tbody>\n",
       "    <tr>\n",
       "      <th>0</th>\n",
       "      <td>12.303404</td>\n",
       "      <td>22.508003</td>\n",
       "    </tr>\n",
       "    <tr>\n",
       "      <th>1</th>\n",
       "      <td>8.573440</td>\n",
       "      <td>15.999147</td>\n",
       "    </tr>\n",
       "    <tr>\n",
       "      <th>2</th>\n",
       "      <td>0.000000</td>\n",
       "      <td>0.000000</td>\n",
       "    </tr>\n",
       "    <tr>\n",
       "      <th>3</th>\n",
       "      <td>10.342754</td>\n",
       "      <td>15.619630</td>\n",
       "    </tr>\n",
       "    <tr>\n",
       "      <th>4</th>\n",
       "      <td>7.744420</td>\n",
       "      <td>14.537671</td>\n",
       "    </tr>\n",
       "  </tbody>\n",
       "</table>\n",
       "</div>"
      ],
      "text/plain": [
       "           A          B\n",
       "0  12.303404  22.508003\n",
       "1   8.573440  15.999147\n",
       "2   0.000000   0.000000\n",
       "3  10.342754  15.619630\n",
       "4   7.744420  14.537671"
      ]
     },
     "execution_count": 20,
     "metadata": {},
     "output_type": "execute_result"
    }
   ],
   "source": [
    "from matplotlib import pyplot as plt\n",
    "import numpy as np\n",
    "import pandas as pd\n",
    "from scipy import stats\n",
    "import seaborn as sns\n",
    "\n",
    "%matplotlib inline\n",
    "# Generate some data and randomize\n",
    "\n",
    "# Some people bought nothing, the others bought with some distribution\n",
    "data1 = [0] * 50\n",
    "data1.extend(stats.norm(12, 4).rvs(150))\n",
    "np.random.shuffle(data1)\n",
    "\n",
    "# The second design hooked less people, but those that were hooked bought more stuff\n",
    "data2 = [0] * 100\n",
    "data2.extend(stats.norm(20, 5).rvs(100))\n",
    "np.random.shuffle(data2)\n",
    "\n",
    "# Make a data frame\n",
    "df = pd.DataFrame()\n",
    "df[\"A\"] = data1\n",
    "df[\"B\"] = data2\n",
    "\n",
    "df.head()"
   ]
  },
  {
   "cell_type": "code",
   "execution_count": 16,
   "metadata": {
    "collapsed": false
   },
   "outputs": [
    {
     "data": {
      "text/plain": [
       "<matplotlib.text.Text at 0x117feb198>"
      ]
     },
     "execution_count": 16,
     "metadata": {},
     "output_type": "execute_result"
    },
    {
     "data": {
      "image/png": "[encoded data removed]",
      "text/plain": [
       "<matplotlib.figure.Figure at 0x114063d68>"
      ]
     },
     "metadata": {},
     "output_type": "display_data"
    }
   ],
   "source": [
    "# Let's plot the data first\n",
    "plt.hist(df[\"A\"], bins=50, label=\"A\")\n",
    "plt.ylabel(\"A counts\")\n",
    "plt.xlabel(\"Total Purchase\")"
   ]
  },
  {
   "cell_type": "code",
   "execution_count": 17,
   "metadata": {
    "collapsed": false
   },
   "outputs": [
    {
     "data": {
      "text/plain": [
       "<matplotlib.text.Text at 0x117fbeb00>"
      ]
     },
     "execution_count": 17,
     "metadata": {},
     "output_type": "execute_result"
    },
    {
     "data": {
      "image/png": "[encoded data removed]",
      "text/plain": [
       "<matplotlib.figure.Figure at 0x117fdfdd8>"
      ]
     },
     "metadata": {},
     "output_type": "display_data"
    }
   ],
   "source": [
    "# Exercise: Make the same plot for dataset \"B\"\n",
    "plt.hist(df[\"B\"], bins=50, label=\"B\")\n",
    "plt.ylabel(\"B counts\")\n",
    "plt.xlabel(\"Total Purchase\")"
   ]
  },
  {
   "cell_type": "code",
   "execution_count": 18,
   "metadata": {
    "collapsed": false
   },
   "outputs": [
    {
     "data": {
      "image/png": "[encoded data removed]",
      "text/plain": [
       "<matplotlib.figure.Figure at 0x11821d518>"
      ]
     },
     "metadata": {},
     "output_type": "display_data"
    }
   ],
   "source": [
    "# Seaborn is also useful\n",
    "\n",
    "sns.violinplot(data=df)\n",
    "plt.ylabel(\"Total Purchase\")\n",
    "sns.plt.show()"
   ]
  },
  {
   "cell_type": "code",
   "execution_count": 19,
   "metadata": {
    "collapsed": false
   },
   "outputs": [
    {
     "data": {
      "text/plain": [
       "<matplotlib.axes._subplots.AxesSubplot at 0x1185105c0>"
      ]
     },
     "execution_count": 19,
     "metadata": {},
     "output_type": "execute_result"
    },
    {
     "data": {
      "image/png": "[encoded data removed]",
      "text/plain": [
       "<matplotlib.figure.Figure at 0x1184e23c8>"
      ]
     },
     "metadata": {},
     "output_type": "display_data"
    }
   ],
   "source": [
    "# Work out the exercises here\n",
    "df.plot.box()"
   ]
  },
  {
   "cell_type": "code",
   "execution_count": 22,
   "metadata": {
    "collapsed": false
   },
   "outputs": [
    {
     "name": "stdout",
     "output_type": "stream",
     "text": [
      "0.235081126079\n"
     ]
    }
   ],
   "source": [
    "# For example, to use ANOVA\n",
    "statistic, pvalue = stats.f_oneway(df[\"A\"], df[\"B\"])\n",
    "print (pvalue)"
   ]
  },
  {
   "cell_type": "code",
   "execution_count": null,
   "metadata": {
    "collapsed": true
   },
   "outputs": [],
   "source": []
  }
 ],
 "metadata": {
  "kernelspec": {
   "display_name": "Python 3",
   "language": "python",
   "name": "python3"
  },
  "language_info": {
   "codemirror_mode": {
    "name": "ipython",
    "version": 3
   },
   "file_extension": ".py",
   "mimetype": "text/x-python",
   "name": "python",
   "nbconvert_exporter": "python",
   "pygments_lexer": "ipython3",
   "version": "3.6.0"
  }
 },
 "nbformat": 4,
 "nbformat_minor": 2
}
