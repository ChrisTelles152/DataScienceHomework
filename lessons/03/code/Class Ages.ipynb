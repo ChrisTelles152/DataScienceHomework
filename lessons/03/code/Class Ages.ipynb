{
 "cells": [
  {
   "cell_type": "code",
   "execution_count": 7,
   "metadata": {
    "collapsed": false
   },
   "outputs": [
    {
     "name": "stdout",
     "output_type": "stream",
     "text": [
      "    age\n",
      "0    28\n",
      "1    31\n",
      "2    30\n",
      "3    25\n",
      "4    46\n",
      "5    34\n",
      "6    36\n",
      "7    23\n",
      "8    23\n",
      "9    23\n",
      "10   27\n",
      "11   24\n",
      "12   24\n",
      "13   33\n",
      "14   33\n",
      "15   33\n",
      "16   80\n"
     ]
    },
    {
     "data": {
      "text/html": [
       "<div>\n",
       "<table border=\"1\" class=\"dataframe\">\n",
       "  <thead>\n",
       "    <tr style=\"text-align: right;\">\n",
       "      <th></th>\n",
       "      <th>age</th>\n",
       "    </tr>\n",
       "  </thead>\n",
       "  <tbody>\n",
       "    <tr>\n",
       "      <th>count</th>\n",
       "      <td>17.000000</td>\n",
       "    </tr>\n",
       "    <tr>\n",
       "      <th>mean</th>\n",
       "      <td>32.529412</td>\n",
       "    </tr>\n",
       "    <tr>\n",
       "      <th>std</th>\n",
       "      <td>13.657039</td>\n",
       "    </tr>\n",
       "    <tr>\n",
       "      <th>min</th>\n",
       "      <td>23.000000</td>\n",
       "    </tr>\n",
       "    <tr>\n",
       "      <th>25%</th>\n",
       "      <td>24.000000</td>\n",
       "    </tr>\n",
       "    <tr>\n",
       "      <th>50%</th>\n",
       "      <td>30.000000</td>\n",
       "    </tr>\n",
       "    <tr>\n",
       "      <th>75%</th>\n",
       "      <td>33.000000</td>\n",
       "    </tr>\n",
       "    <tr>\n",
       "      <th>max</th>\n",
       "      <td>80.000000</td>\n",
       "    </tr>\n",
       "  </tbody>\n",
       "</table>\n",
       "</div>"
      ],
      "text/plain": [
       "             age\n",
       "count  17.000000\n",
       "mean   32.529412\n",
       "std    13.657039\n",
       "min    23.000000\n",
       "25%    24.000000\n",
       "50%    30.000000\n",
       "75%    33.000000\n",
       "max    80.000000"
      ]
     },
     "execution_count": 7,
     "metadata": {},
     "output_type": "execute_result"
    }
   ],
   "source": [
    "import numpy as np\n",
    "import pandas as pd\n",
    "import matplotlib.pyplot as plt\n",
    "\n",
    "age = pd.DataFrame({'age' : [28,31,30,25,46,34,36,23,23,23,27,24,24,33,33,33, 80] })\n",
    "print (age)\n",
    "\n",
    "age.plot(kind='box')\n",
    "\n",
    "plt.vlines(age.mean(),     # Plot black line at mean\n",
    "          ymin=0,\n",
    "          ymax=0.045,\n",
    "          linewidth=1.0)\n",
    "\n",
    "plt.vlines(age.median(),   # Plot red line at median\n",
    "          ymin=0,\n",
    "          ymax=0.045,\n",
    "          linewidth=1.0,\n",
    "          color=\"red\")\n",
    "\n",
    "age.describe()"
   ]
  },
  {
   "cell_type": "code",
   "execution_count": null,
   "metadata": {
    "collapsed": true
   },
   "outputs": [],
   "source": []
  }
 ],
 "metadata": {
  "kernelspec": {
   "display_name": "Python 3",
   "language": "python",
   "name": "python3"
  },
  "language_info": {
   "codemirror_mode": {
    "name": "ipython",
    "version": 3
   },
   "file_extension": ".py",
   "mimetype": "text/x-python",
   "name": "python",
   "nbconvert_exporter": "python",
   "pygments_lexer": "ipython3",
   "version": "3.6.0"
  }
 },
 "nbformat": 4,
 "nbformat_minor": 2
}
