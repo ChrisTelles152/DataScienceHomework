{
 "cells": [
  {
   "cell_type": "markdown",
   "metadata": {},
   "source": [
    "# Question 1\n",
    "Determine the version of python that's currently powering your notebook."
   ]
  },
  {
   "cell_type": "code",
   "execution_count": 1,
   "metadata": {
    "scrolled": true
   },
   "outputs": [
    {
     "data": {
      "text/plain": [
       "'3.6.0 |Anaconda 4.3.0 (x86_64)| (default, Dec 23 2016, 13:19:00) \\n[GCC 4.2.1 Compatible Apple LLVM 6.0 (clang-600.0.57)]'"
      ]
     },
     "execution_count": 1,
     "metadata": {},
     "output_type": "execute_result"
    }
   ],
   "source": [
    "import sys\n",
    "sys.version\n",
    "\n",
    "# type sys.<tab> to find all the attributes; choose the one to suit your needs!"
   ]
  },
  {
   "cell_type": "markdown",
   "metadata": {},
   "source": [
    "# Question 2\n",
    "Define a function max_of_three() that takes three numbers as arguments and returns the largest of them.\n",
    "> `max_of_three(55, -22, pow(2,100))`"
   ]
  },
  {
   "cell_type": "code",
   "execution_count": 5,
   "metadata": {},
   "outputs": [
    {
     "data": {
      "text/plain": [
       "55"
      ]
     },
     "execution_count": 5,
     "metadata": {},
     "output_type": "execute_result"
    }
   ],
   "source": [
    "'''Create a function with three arguments'''\n",
    "def max_of_three(a,b,c):\n",
    "    \n",
    "    # Create variable which takes the max() operation for three variables\n",
    "    num = max(a,b,c)\n",
    "    \n",
    "    # Return the variable\n",
    "    return num\n",
    "\n",
    "# Call the function\n",
    "max_of_three(55,22,2)"
   ]
  },
  {
   "cell_type": "markdown",
   "metadata": {},
   "source": [
    "# Question 3\n",
    "Write a function is_vowel() that takes a character (i.e. a string of length 1) and returns True if it is a vowel, False otherwise."
   ]
  },
  {
   "cell_type": "code",
   "execution_count": 6,
   "metadata": {},
   "outputs": [
    {
     "name": "stdout",
     "output_type": "stream",
     "text": [
      "i\n"
     ]
    },
    {
     "data": {
      "text/plain": [
       "True"
      ]
     },
     "execution_count": 6,
     "metadata": {},
     "output_type": "execute_result"
    }
   ],
   "source": [
    "'''Create function which takes one argument'''\n",
    "def is_vowel(string):\n",
    "    \n",
    "    # Length of string needs to be one\n",
    "    if len(string) == 1:\n",
    "        \n",
    "        # Check if string is a vowel\n",
    "        if string in (\"a\",\"e\",\"i\",\"o\",\"u\"):\n",
    "            return True\n",
    "        else:\n",
    "            return False\n",
    "    else:\n",
    "        return \"Please enter only one character\"\n",
    "is_vowel(input())"
   ]
  },
  {
   "cell_type": "markdown",
   "metadata": {},
   "source": [
    "# Question 4\n",
    "Define a function reverse() that computes the reversal of a string. For example, reverse(\"I am testing\") should return the string \"gnitset ma I\"."
   ]
  },
  {
   "cell_type": "code",
   "execution_count": 7,
   "metadata": {},
   "outputs": [
    {
     "name": "stdout",
     "output_type": "stream",
     "text": [
      "hey\n",
      "['h', 'e', 'y']\n"
     ]
    },
    {
     "data": {
      "text/plain": [
       "'yeh'"
      ]
     },
     "execution_count": 7,
     "metadata": {},
     "output_type": "execute_result"
    }
   ],
   "source": [
    "'''Create function that takes one argument'''\n",
    "def reverse_string(string):\n",
    "    \n",
    "    # Get the length of the string \n",
    "    length = len(string)\n",
    "    \n",
    "    # Set each character of the string to an individual string in a list\n",
    "    full = list(string)\n",
    "\n",
    "    # Create new variable to receive the new string\n",
    "    new = \"\"\n",
    "    \n",
    "    # Check if length is more than 0\n",
    "    if length > 0:        \n",
    "        \n",
    "        # Loop through the number of characters in the string\n",
    "        for i in range(length):\n",
    "            \n",
    "            # Make each individual character of the string equal to its negative value in anoter string\n",
    "            full[i] = string[length-(1+i)]\n",
    "            \n",
    "        # Join all separate characters into a single string    \n",
    "        new = \"\".join(full)\n",
    "        return new\n",
    "    else:\n",
    "        return \"Please input a string.\"\n",
    "reverse_string(input())"
   ]
  },
  {
   "cell_type": "markdown",
   "metadata": {},
   "source": [
    "# Question 5\n",
    "Define a function is_palindrome() that recognizes palindromes (i.e. words that look the same written backwards). For example, is_palindrome(\"radar\") should return True."
   ]
  },
  {
   "cell_type": "code",
   "execution_count": 9,
   "metadata": {},
   "outputs": [
    {
     "name": "stdout",
     "output_type": "stream",
     "text": [
      "thaht\n",
      "success\n"
     ]
    }
   ],
   "source": [
    "def reverse_string(string):\n",
    "    length = len(string)\n",
    "    full = list(string)\n",
    "    new = \"\"\n",
    "    if length > 0:        \n",
    "        for i in range(length):\n",
    "            full[i] = string[length-(1+i)]\n",
    "        new = \"\".join(full)\n",
    "        return new\n",
    "    else:\n",
    "        return \"Please input a string.\"\n",
    "\n",
    "def palindrome(s):\n",
    "    reverse_string(s)\n",
    "    reverse = reverse_string(s)\n",
    "    if s == reverse:\n",
    "        print (\"success\")\n",
    "    else: \n",
    "        print (\"failure\")\n",
    "\n",
    "palindrome(input())"
   ]
  },
  {
   "cell_type": "markdown",
   "metadata": {},
   "source": [
    "# Question 6\n",
    "99 Bottles of Beer\" is a traditional song in the United States and Canada. It is popular to sing on long trips, as it has a very repetitive format which is easy to memorize, and can take a long time to sing. The song's simple lyrics are as follows:\n",
    "\n",
    "    99 bottles of beer on the wall, 99 bottles of beer.\n",
    "    Take one down, pass it around, 98 bottles of beer on the wall.\n",
    "\n",
    "The same verse is repeated, each time with one fewer bottle. The song is completed when the singer or singers reach zero.\n",
    "\n",
    "Your task here is write a Python program capable of generating all the verses of the song."
   ]
  },
  {
   "cell_type": "code",
   "execution_count": 25,
   "metadata": {},
   "outputs": [
    {
     "name": "stdout",
     "output_type": "stream",
     "text": [
      "5\n",
      "5\n",
      "5 bottles of beer on the wall, 5 bottles of beer.\n",
      "Take one down, pass it around, 4 bottles of beer on the wall.\n",
      "4\n",
      "4 bottles of beer on the wall, 4 bottles of beer.\n",
      "Take one down, pass it around, 3 bottles of beer on the wall.\n",
      "3\n",
      "3 bottles of beer on the wall, 3 bottles of beer.\n",
      "Take one down, pass it around, 2 bottles of beer on the wall.\n",
      "2\n",
      "2 bottles of beer on the wall, 2 bottles of beer.\n",
      "Take one down, pass it around, 1 bottles of beer on the wall.\n",
      "1\n",
      "1 bottles of beer on the wall, 1 bottles of beer.\n",
      "Take one down, pass it around, 0 bottles of beer on the wall.\n"
     ]
    }
   ],
   "source": [
    "def bottles(x):\n",
    "    i = 0\n",
    "    x = int(x)\n",
    "    a = x\n",
    "    \n",
    "    for b in range(a):\n",
    "        print (\"%d bottles of beer on the wall, %d bottles of beer.\" % (a,a))\n",
    "        a -= 1\n",
    "        print (\"Take one down, pass it around, %s bottles of beer on the wall.\" % (a))\n",
    "    \n",
    "bottles(input())"
   ]
  },
  {
   "cell_type": "markdown",
   "metadata": {},
   "source": [
    "# Question 7\n",
    "Write a program that maps a list of words into a list of integers representing the lengths of the correponding words. Write it in three different ways: 1) using a for-loop, 2) using the higher order function map(), and 3) using list comprehensions."
   ]
  },
  {
   "cell_type": "code",
   "execution_count": null,
   "metadata": {
    "collapsed": true
   },
   "outputs": [],
   "source": []
  },
  {
   "cell_type": "code",
   "execution_count": null,
   "metadata": {
    "collapsed": true
   },
   "outputs": [],
   "source": []
  },
  {
   "cell_type": "markdown",
   "metadata": {},
   "source": [
    "# Question 8\n",
    "Divide 10 by 20 and set the result to a variable named \"A\""
   ]
  },
  {
   "cell_type": "code",
   "execution_count": null,
   "metadata": {
    "collapsed": true
   },
   "outputs": [],
   "source": [
    "A = 10/20"
   ]
  },
  {
   "cell_type": "markdown",
   "metadata": {},
   "source": [
    "# Question 9\n",
    "Create a function called division that will divide any two numbers and prints the result (with decimals)."
   ]
  },
  {
   "cell_type": "code",
   "execution_count": null,
   "metadata": {
    "collapsed": true
   },
   "outputs": [],
   "source": [
    "def division(x,y):\n",
    "    print (x / y)"
   ]
  },
  {
   "cell_type": "markdown",
   "metadata": {},
   "source": [
    "# Question 10\n",
    "Using .split() split my string into separate words in a variable named words"
   ]
  },
  {
   "cell_type": "code",
   "execution_count": null,
   "metadata": {
    "collapsed": true
   },
   "outputs": [],
   "source": [
    "my_string = \"the cow jumped over the moon\"\n",
    "words = my_string.split()\n",
    "print (words)\n",
    "# put your code here it should return ['the', 'cow', 'jumped', 'over', 'the', 'moon']"
   ]
  },
  {
   "cell_type": "markdown",
   "metadata": {},
   "source": [
    "# Question 11\n",
    "How many words are in my_string?"
   ]
  },
  {
   "cell_type": "code",
   "execution_count": null,
   "metadata": {
    "collapsed": true
   },
   "outputs": [],
   "source": [
    "6"
   ]
  },
  {
   "cell_type": "markdown",
   "metadata": {},
   "source": [
    "# Question 12\n",
    "Use a list comprehension to find the length of each word."
   ]
  },
  {
   "cell_type": "code",
   "execution_count": null,
   "metadata": {
    "collapsed": true
   },
   "outputs": [],
   "source": [
    "total = [len(x) for x in words]\n",
    "print (total)"
   ]
  },
  {
   "cell_type": "markdown",
   "metadata": {},
   "source": [
    "# Question 13\n",
    "Put the words back together in a variable called sentence using .join()"
   ]
  },
  {
   "cell_type": "code",
   "execution_count": null,
   "metadata": {
    "collapsed": true
   },
   "outputs": [],
   "source": [
    "\" \".join(words)"
   ]
  },
  {
   "cell_type": "markdown",
   "metadata": {},
   "source": [
    "# Question 14\n",
    "Add a \"||\" between each word"
   ]
  },
  {
   "cell_type": "code",
   "execution_count": null,
   "metadata": {
    "collapsed": true
   },
   "outputs": [],
   "source": [
    "\" || \".join(words)"
   ]
  },
  {
   "cell_type": "markdown",
   "metadata": {},
   "source": [
    "# Question 15\n",
    "What type of object is created by this code?\n",
    "> `d = {'a':10, 'b':20, 'c':30}`"
   ]
  },
  {
   "cell_type": "code",
   "execution_count": null,
   "metadata": {
    "collapsed": true
   },
   "outputs": [],
   "source": [
    "d = {'a':10, 'b':20, 'c':30}\n",
    "type(d)"
   ]
  },
  {
   "cell_type": "markdown",
   "metadata": {},
   "source": [
    "# Question 16\n",
    "In the `d` object, what are `a`, `b`, and `c` called?  What are 10, 20, and 30 called?"
   ]
  },
  {
   "cell_type": "code",
   "execution_count": null,
   "metadata": {
    "collapsed": true
   },
   "outputs": [],
   "source": [
    "type('a')"
   ]
  },
  {
   "cell_type": "markdown",
   "metadata": {},
   "source": [
    "# Question 17\n",
    "How do you change the 30 to a 40 in the d object?"
   ]
  },
  {
   "cell_type": "code",
   "execution_count": null,
   "metadata": {
    "collapsed": true
   },
   "outputs": [],
   "source": [
    "d['c'] = 40\n",
    "print(d['c'])"
   ]
  },
  {
   "cell_type": "markdown",
   "metadata": {},
   "source": [
    "# Question 18\n",
    "From the `people` object, return Brandon's state only.\n",
    "\n",
    "> `people = {'Alice': ['Washington', 'DC'], 'Brandon': ['Arlington', 'VA']}`"
   ]
  },
  {
   "cell_type": "code",
   "execution_count": null,
   "metadata": {
    "collapsed": true
   },
   "outputs": [],
   "source": [
    "people = {'Alice': ['Washington', 'DC'], 'Brandon': ['Arlington', 'VA']}\n",
    "print(people['Brandon'][1])"
   ]
  },
  {
   "cell_type": "markdown",
   "metadata": {},
   "source": [
    "# Question 19\n",
    "Define a function `calc` that takes two variables, `a` and `b`, and returns their sum."
   ]
  },
  {
   "cell_type": "code",
   "execution_count": null,
   "metadata": {
    "collapsed": true
   },
   "outputs": [],
   "source": [
    "def calc(x,y):\n",
    "    z = x + y\n",
    "    return z"
   ]
  },
  {
   "cell_type": "markdown",
   "metadata": {},
   "source": [
    "# Question 20\n",
    "The prime factors of 13195 are 5, 7, 13 and 29.  What is the largest prime factor of the number 600851475143?"
   ]
  },
  {
   "cell_type": "code",
   "execution_count": 7,
   "metadata": {},
   "outputs": [
    {
     "data": {
      "text/plain": [
       "2"
      ]
     },
     "execution_count": 7,
     "metadata": {},
     "output_type": "execute_result"
    }
   ],
   "source": [
    "import math\n",
    "def is_prime(num):\n",
    "    for i in range(int(math.sqrt(num)),1,-1):\n",
    "        if num % i == 0:\n",
    "            return False\n",
    "    return True\n",
    "def largest_prime_factor(num):\n",
    "    for i in range(int(math.sqrt(num)), 1, -1):\n",
    "        if num % i == 0 and is_prime == True:\n",
    "            return i\n",
    "    return i\n",
    "largest_prime_factor(13195)\n",
    "##THIS IS UNFINISHED AND DOESN'T MAKE SENSE WHY IT DOESN'T WORK..."
   ]
  },
  {
   "cell_type": "code",
   "execution_count": null,
   "metadata": {
    "collapsed": true
   },
   "outputs": [],
   "source": []
  },
  {
   "cell_type": "code",
   "execution_count": null,
   "metadata": {
    "collapsed": true
   },
   "outputs": [],
   "source": []
  }
 ],
 "metadata": {
  "kernelspec": {
   "display_name": "Python 3",
   "language": "python",
   "name": "python3"
  },
  "language_info": {
   "codemirror_mode": {
    "name": "ipython",
    "version": 3
   },
   "file_extension": ".py",
   "mimetype": "text/x-python",
   "name": "python",
   "nbconvert_exporter": "python",
   "pygments_lexer": "ipython3",
   "version": "3.6.0"
  }
 },
 "nbformat": 4,
 "nbformat_minor": 2
}
